{
 "cells": [
  {
   "cell_type": "markdown",
   "id": "e321fc3d-6b4b-4539-8311-0304f0ee8403",
   "metadata": {},
   "source": [
    "# Intializing AI patform "
   ]
  },
  {
   "cell_type": "code",
   "execution_count": 1,
   "id": "95271e1c-1133-42a6-96e6-55dd4e97a129",
   "metadata": {},
   "outputs": [],
   "source": [
    "\n",
    "from google.cloud import aiplatform\n",
    "REGION = 'us-central1'\n",
    "PROJECT_ID = 'your-project-name'\n",
    "base_output_dir = 'gs://your-project-name'\n",
    "bucket = 'gs://your-project-name/model' # Should be same as AIP_STORAGE_URI specified in docker file\n",
    "container_uri='us-central1-docker.pkg.dev/your-project-name/testrepo/lightgbm_model'\n",
    "model_serving_container_image_uri='us-central1-docker.pkg.dev/your-project-name/testrepo/lightgbm_serve'\n",
    "display_name='Custom Job from Code'\n",
    "\n",
    "aiplatform.init(project=PROJECT_ID, location=REGION, staging_bucket=bucket)"
   ]
  },
  {
   "cell_type": "markdown",
   "id": "aac98962-35e8-4f38-8eb9-81d8eb43027d",
   "metadata": {},
   "source": [
    "# Job Run "
   ]
  },
  {
   "cell_type": "code",
   "execution_count": 2,
   "id": "c7374f41-4e1f-42b1-b3d8-084aed2b647b",
   "metadata": {},
   "outputs": [],
   "source": [
    "\n",
    "job = aiplatform.CustomContainerTrainingJob(\n",
    "    display_name=display_name,\n",
    "    container_uri=container_uri,\n",
    "    model_serving_container_image_uri=model_serving_container_image_uri,\n",
    "    staging_bucket = bucket, \n",
    ")\n",
    "\n",
    "model = job.run( model_display_name=display_name, base_output_dir = base_output_dir,service_account=\"compute@developer.gserviceaccount.com\")"
   ]
  },
  {
   "cell_type": "markdown",
   "id": "5dd654c7-b1b6-4088-9e99-ac16c986a9dd",
   "metadata": {},
   "source": [
    "# Endpoint Deployment"
   ]
  },
  {
   "cell_type": "code",
   "execution_count": null,
   "id": "0ce8cb49-6e93-48d5-a1f0-0884a0265077",
   "metadata": {},
   "outputs": [],
   "source": [
    "endpoint = model.deploy(\n",
    "    deployed_model_display_name=display_name, sync=True\n",
    ")"
   ]
  },
  {
   "cell_type": "code",
   "execution_count": null,
   "id": "9e4f908c-1cab-43ef-b8ab-7413610e6cb3",
   "metadata": {},
   "outputs": [],
   "source": []
  }
 ],
 "metadata": {
  "environment": {
   "kernel": "python3",
   "name": "common-cpu.m111",
   "type": "gcloud",
   "uri": "gcr.io/deeplearning-platform-release/base-cpu:m111"
  },
  "kernelspec": {
   "display_name": "Python 3",
   "language": "python",
   "name": "python3"
  },
  "language_info": {
   "codemirror_mode": {
    "name": "ipython",
    "version": 3
   },
   "file_extension": ".py",
   "mimetype": "text/x-python",
   "name": "python",
   "nbconvert_exporter": "python",
   "pygments_lexer": "ipython3",
   "version": "3.7.12"
  }
 },
 "nbformat": 4,
 "nbformat_minor": 5
}
